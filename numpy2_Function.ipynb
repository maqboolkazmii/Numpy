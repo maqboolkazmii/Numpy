{
 "cells": [
  {
   "cell_type": "markdown",
   "id": "3e9cefb3",
   "metadata": {},
   "source": [
    "# Numpy Function"
   ]
  },
  {
   "cell_type": "code",
   "execution_count": 1,
   "id": "49819186",
   "metadata": {},
   "outputs": [],
   "source": [
    "import numpy as np"
   ]
  },
  {
   "cell_type": "markdown",
   "id": "f199cae7",
   "metadata": {},
   "source": [
    "# Arange()\n",
    "np.arange=(start,end, steps)  it gaves values in given range by given steps. last digit cant print"
   ]
  },
  {
   "cell_type": "code",
   "execution_count": 2,
   "id": "8f389e98",
   "metadata": {},
   "outputs": [
    {
     "name": "stdout",
     "output_type": "stream",
     "text": [
      "[ 2  3  4  5  6  7  8  9 10 11]\n"
     ]
    }
   ],
   "source": [
    "\n",
    "array=np.arange(2,12)\n",
    "print(array)"
   ]
  },
  {
   "cell_type": "markdown",
   "id": "d1879fc7",
   "metadata": {},
   "source": [
    "# Linspace()\n",
    "linespace(start, stop, numberOf values)\n",
    "it gives number of values in given range"
   ]
  },
  {
   "cell_type": "code",
   "execution_count": 3,
   "id": "af1723e8",
   "metadata": {},
   "outputs": [
    {
     "data": {
      "text/plain": [
       "array([1. , 1.8, 2.6, 3.4, 4.2, 5. ])"
      ]
     },
     "execution_count": 3,
     "metadata": {},
     "output_type": "execute_result"
    }
   ],
   "source": [
    "np.linspace(1,5,6)"
   ]
  },
  {
   "cell_type": "markdown",
   "id": "4ae23d1e",
   "metadata": {},
   "source": [
    "# Reshape()\n",
    "reshape is used to convart 1d array into 2d 3d array. frist we shoud know about size of array to reshape"
   ]
  },
  {
   "cell_type": "code",
   "execution_count": 4,
   "id": "6cc40ab9",
   "metadata": {},
   "outputs": [
    {
     "data": {
      "text/plain": [
       "array([[ 2,  3,  4,  5,  6],\n",
       "       [ 7,  8,  9, 10, 11]])"
      ]
     },
     "execution_count": 4,
     "metadata": {},
     "output_type": "execute_result"
    }
   ],
   "source": [
    "array.reshape(2,5)"
   ]
  },
  {
   "cell_type": "code",
   "execution_count": 5,
   "id": "5f978b02",
   "metadata": {},
   "outputs": [
    {
     "name": "stdout",
     "output_type": "stream",
     "text": [
      "[[ 1  2]\n",
      " [ 3  4]\n",
      " [ 5  6]\n",
      " [ 7  8]\n",
      " [ 9 10]]\n"
     ]
    }
   ],
   "source": [
    "ary2d=np.arange(1,11).reshape(5,2)\n",
    "print(ary2d)"
   ]
  },
  {
   "cell_type": "code",
   "execution_count": 6,
   "id": "7f42815e",
   "metadata": {},
   "outputs": [
    {
     "name": "stdout",
     "output_type": "stream",
     "text": [
      "[ 1  2  3  4  5  6  7  8  9 10 11 12 13 14 15 16]\n"
     ]
    },
    {
     "data": {
      "text/plain": [
       "16"
      ]
     },
     "execution_count": 6,
     "metadata": {},
     "output_type": "execute_result"
    }
   ],
   "source": [
    "#conert 1d to 3d\n",
    "#array.reshape(3d,2d,1d) and product must be equal to size of 1d array\n",
    "ary1d=np.arange(1,17)\n",
    "print(ary1d)\n",
    "ary1d.size\n"
   ]
  },
  {
   "cell_type": "code",
   "execution_count": 7,
   "id": "4263c39e",
   "metadata": {},
   "outputs": [
    {
     "name": "stdout",
     "output_type": "stream",
     "text": [
      "[[[ 1  2  3  4]\n",
      "  [ 5  6  7  8]]\n",
      "\n",
      " [[ 9 10 11 12]\n",
      "  [13 14 15 16]]]\n"
     ]
    }
   ],
   "source": [
    "mulD=ary1d.reshape(2,2,4)\n",
    "print(mulD)"
   ]
  },
  {
   "cell_type": "markdown",
   "id": "2f2c8cc5",
   "metadata": {},
   "source": [
    "# Ravel()\n",
    "convert multi dimensional array into id"
   ]
  },
  {
   "cell_type": "code",
   "execution_count": 8,
   "id": "6449ced7",
   "metadata": {},
   "outputs": [
    {
     "data": {
      "text/plain": [
       "array([ 1,  2,  3,  4,  5,  6,  7,  8,  9, 10, 11, 12, 13, 14, 15, 16])"
      ]
     },
     "execution_count": 8,
     "metadata": {},
     "output_type": "execute_result"
    }
   ],
   "source": [
    "mulD.ravel()"
   ]
  },
  {
   "cell_type": "markdown",
   "id": "4b5e7c65",
   "metadata": {},
   "source": [
    "# Flatten\n"
   ]
  },
  {
   "cell_type": "code",
   "execution_count": 9,
   "id": "6de6dd73",
   "metadata": {},
   "outputs": [
    {
     "data": {
      "text/plain": [
       "array([ 1,  2,  3,  4,  5,  6,  7,  8,  9, 10, 11, 12, 13, 14, 15, 16])"
      ]
     },
     "execution_count": 9,
     "metadata": {},
     "output_type": "execute_result"
    }
   ],
   "source": [
    "mulD.flatten()"
   ]
  },
  {
   "cell_type": "markdown",
   "id": "944a599b",
   "metadata": {},
   "source": [
    "# Transpose"
   ]
  },
  {
   "cell_type": "code",
   "execution_count": 10,
   "id": "ccb971f4",
   "metadata": {},
   "outputs": [
    {
     "name": "stdout",
     "output_type": "stream",
     "text": [
      "[[1 2]\n",
      " [9 8]]\n",
      "[[1 9]\n",
      " [2 8]]\n"
     ]
    }
   ],
   "source": [
    "m=np.array([[1,2],\n",
    "            [9,8]])\n",
    "mul=m.transpose()\n",
    "print(m)\n",
    "print(mul)\n"
   ]
  },
  {
   "cell_type": "code",
   "execution_count": 11,
   "id": "177a5c36",
   "metadata": {},
   "outputs": [
    {
     "data": {
      "text/plain": [
       "array([[1, 9],\n",
       "       [2, 8]])"
      ]
     },
     "execution_count": 11,
     "metadata": {},
     "output_type": "execute_result"
    }
   ],
   "source": [
    "m.T"
   ]
  },
  {
   "cell_type": "code",
   "execution_count": null,
   "id": "c666e82e",
   "metadata": {},
   "outputs": [],
   "source": []
  },
  {
   "cell_type": "code",
   "execution_count": null,
   "id": "0cea6c86",
   "metadata": {},
   "outputs": [],
   "source": []
  }
 ],
 "metadata": {
  "kernelspec": {
   "display_name": "Python 3",
   "language": "python",
   "name": "python3"
  },
  "language_info": {
   "codemirror_mode": {
    "name": "ipython",
    "version": 3
   },
   "file_extension": ".py",
   "mimetype": "text/x-python",
   "name": "python",
   "nbconvert_exporter": "python",
   "pygments_lexer": "ipython3",
   "version": "3.8.8"
  }
 },
 "nbformat": 4,
 "nbformat_minor": 5
}
